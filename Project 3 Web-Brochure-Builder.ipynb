{
 "cells": [
  {
   "cell_type": "markdown",
   "id": "80f220f2-4c48-4917-8aa4-cd0979147623",
   "metadata": {},
   "source": [
    "# Sections 1 : Get the Relevant Links"
   ]
  },
  {
   "cell_type": "code",
   "execution_count": 14,
   "id": "41a5eb75-2d32-49df-8f16-b36a0ab8ee6f",
   "metadata": {},
   "outputs": [],
   "source": [
    "import os \n",
    "import requests\n",
    "import json\n",
    "import validators\n",
    "from bs4 import BeautifulSoup\n",
    "from openai import OpenAI\n",
    "from IPython.display import Markdown, display, update_display\n",
    "from dotenv import load_dotenv"
   ]
  },
  {
   "cell_type": "code",
   "execution_count": 15,
   "id": "8b3a2b1c-e1b6-4fc2-8a41-ddc693335a4d",
   "metadata": {},
   "outputs": [
    {
     "name": "stdout",
     "output_type": "stream",
     "text": [
      "API key found and looks good so far!\n"
     ]
    }
   ],
   "source": [
    "load_dotenv()\n",
    "api_key = os.getenv(\"OPENAI_API_KEY\")\n",
    "\n",
    "if not api_key:\n",
    "    print(\"No API key was found - please head over to the troubleshooting notebook in this folder to identify & fix!\")\n",
    "elif not api_key.split() != api_key:\n",
    "    print(\"An API key was found, but it looks like it might have space or tab characters at the start or end - please remove them - see troubleshooting notebook\")\n",
    "elif api_key[:8] != \"sk-proj-\":\n",
    "    print(\"An API key was found, but it doesn't start sk-proj-; please check you're using the right key - see troubleshooting notebook\")\n",
    "else :\n",
    "    print(\"API key found and looks good so far!\")"
   ]
  },
  {
   "cell_type": "code",
   "execution_count": 16,
   "id": "3a8f77d3-f3fa-4228-bdc7-e0afd0d3e42d",
   "metadata": {},
   "outputs": [],
   "source": [
    "openai = OpenAI()"
   ]
  },
  {
   "cell_type": "code",
   "execution_count": 17,
   "id": "84442202-5be4-4d89-993d-bc459de1c3e9",
   "metadata": {},
   "outputs": [],
   "source": [
    "headers = { \"User-Agent\": \"Mozilla/5.0 (Windows NT 10.0; Win64; x64) AppleWebKit/537.36 (KHTML, like Gecko) Chrome/117.0.0.0 Safari/537.36\"}"
   ]
  },
  {
   "cell_type": "code",
   "execution_count": 18,
   "id": "5fa02833-cb8f-47cd-aa7e-24e76ebdda4e",
   "metadata": {},
   "outputs": [
    {
     "name": "stdin",
     "output_type": "stream",
     "text": [
      "Enter the required URL https://huggingface.co/\n"
     ]
    },
    {
     "name": "stdout",
     "output_type": "stream",
     "text": [
      "Valid URL.\n"
     ]
    }
   ],
   "source": [
    "myurl = input(\"Enter the required URL\")\n",
    "\n",
    "if validators.url(myurl):\n",
    "    print(\"Valid URL.\")\n",
    "else:\n",
    "    print(\"Invalid URL\")"
   ]
  },
  {
   "cell_type": "code",
   "execution_count": 19,
   "id": "0afa24a9-fa1a-4476-8d49-b780120cbd9a",
   "metadata": {},
   "outputs": [],
   "source": [
    "response = requests.get(myurl,headers=headers)"
   ]
  },
  {
   "cell_type": "code",
   "execution_count": 20,
   "id": "f9f0f618-4fb8-4889-bba1-628c02b767c0",
   "metadata": {},
   "outputs": [
    {
     "name": "stdout",
     "output_type": "stream",
     "text": [
      "200\n"
     ]
    }
   ],
   "source": [
    "print(response.status_code)"
   ]
  },
  {
   "cell_type": "code",
   "execution_count": 21,
   "id": "cff750b0-b481-4179-ba97-6ba83377d2f7",
   "metadata": {},
   "outputs": [],
   "source": [
    "soup=BeautifulSoup(response.content,'html.parser')"
   ]
  },
  {
   "cell_type": "code",
   "execution_count": 22,
   "id": "7c069b73-269c-4410-9bab-bff3a63626a3",
   "metadata": {},
   "outputs": [],
   "source": [
    "title = soup.title.string if soup.title else \"No title found.\"\n",
    "\n",
    "for irrelevant in soup.body([\"script\",\"img\",\"style\",\"input\"]):\n",
    "    irrelevant.decompose()\n",
    "text = soup.body.get_text(separator=\"\\n\",strip=True)"
   ]
  },
  {
   "cell_type": "code",
   "execution_count": 23,
   "id": "c4b8786d-09f8-47ca-afe8-fd7993809493",
   "metadata": {},
   "outputs": [],
   "source": [
    "def get_contents(title,text):\n",
    "    return f\"Webpage Title:\\n{title}\\nWebpage Contents:\\n{text}\\n\\n\""
   ]
  },
  {
   "cell_type": "code",
   "execution_count": 24,
   "id": "0af9c0c8-3ee5-488c-a9db-5df60a10de2b",
   "metadata": {},
   "outputs": [],
   "source": [
    "all_links = soup.find_all('a')\n",
    "links = [link.get('href') for link in all_links if link.get('href')]"
   ]
  },
  {
   "cell_type": "code",
   "execution_count": 25,
   "id": "e19dd4e3-4a25-4186-ac92-7a12e406d275",
   "metadata": {},
   "outputs": [],
   "source": [
    "system_links_prompt = \"You are provided with a list of links found on a webpage. \\\n",
    "You are able to decide which of the links would be most relevant to include in a brochure about the company, \\\n",
    "such as links to an About page, or a Company page, or Careers/Jobs pages.\\n\"\n",
    "system_links_prompt += \"You should respond in JSON as in this example:\"\n",
    "\n",
    "system_links_prompt +=\"\"\"\n",
    "{\n",
    "\"links\": [\n",
    "        {\"type\": \"about page\", \"url\": \"https://full.url/goes/here/about\"},\n",
    "        {\"type\": \"careers page\", \"url\": \"https://another.full.url/careers\"}\n",
    "    ]\n",
    "}\n",
    "\"\"\""
   ]
  },
  {
   "cell_type": "code",
   "execution_count": 26,
   "id": "ce7005e0-6750-4a3e-85b2-acc99608fdde",
   "metadata": {},
   "outputs": [],
   "source": [
    "def get_user_links_prompt(myurl):\n",
    "    user_prompt = f\"Here is the list of links on the website of {myurl} - \"\n",
    "    user_prompt += \"please decide which of these are relevant web links for a brochure about the company, respond with the full https URL in JSON format. \\\n",
    "Do not include Terms of Service, Privacy, email links.\\n\"\n",
    "    user_prompt += \"Links (some might be relative links):\\n\"\n",
    "    user_prompt += \"\\n\".join(links)\n",
    "    return user_prompt"
   ]
  },
  {
   "cell_type": "code",
   "execution_count": 27,
   "id": "c5ae44a6-5533-4943-af86-9f8ea1a91199",
   "metadata": {},
   "outputs": [],
   "source": [
    "messages_links = [\n",
    "    {'role':'system','content':system_links_prompt},\n",
    "    {'role':'user','content':get_user_links_prompt(myurl)}\n",
    "]"
   ]
  },
  {
   "cell_type": "code",
   "execution_count": 28,
   "id": "7d6fe9e9-415a-42d9-921e-46af8dcd98e5",
   "metadata": {},
   "outputs": [],
   "source": [
    "def get_relevant_links(myurl):\n",
    "    response= openai.chat.completions.create(\n",
    "        messages = messages_links,\n",
    "        model=\"gpt-4o-mini\",\n",
    "        response_format= {'type':'json_object'}\n",
    "    )\n",
    "    result = response.choices[0].message.content\n",
    "    return json.loads(result)"
   ]
  },
  {
   "cell_type": "code",
   "execution_count": 29,
   "id": "ad10d99f-675a-49d7-bf99-d391d7800499",
   "metadata": {},
   "outputs": [
    {
     "data": {
      "text/plain": [
       "{'links': [{'type': 'about page', 'url': 'https://huggingface.co/huggingface'},\n",
       "  {'type': 'careers page', 'url': 'https://apply.workable.com/huggingface/'},\n",
       "  {'type': 'enterprise page', 'url': 'https://huggingface.co/enterprise'},\n",
       "  {'type': 'pricing page', 'url': 'https://huggingface.co/pricing'},\n",
       "  {'type': 'blog page', 'url': 'https://huggingface.co/blog'},\n",
       "  {'type': 'GitHub page', 'url': 'https://github.com/huggingface'},\n",
       "  {'type': 'Twitter page', 'url': 'https://twitter.com/huggingface'},\n",
       "  {'type': 'LinkedIn page',\n",
       "   'url': 'https://www.linkedin.com/company/huggingface/'}]}"
      ]
     },
     "execution_count": 29,
     "metadata": {},
     "output_type": "execute_result"
    }
   ],
   "source": [
    "get_relevant_links(myurl)"
   ]
  },
  {
   "cell_type": "markdown",
   "id": "32071a1d-602d-4692-a395-2427f59d1257",
   "metadata": {},
   "source": [
    "# Section 2 : Making the Brochure"
   ]
  },
  {
   "cell_type": "code",
   "execution_count": 30,
   "id": "d436708d-bfb2-4e63-9054-ed3bd772bd6b",
   "metadata": {},
   "outputs": [],
   "source": [
    "def scrape_web(myurl):\n",
    "    response = response = requests.get(myurl,headers=headers)\n",
    "    soup=BeautifulSoup(response.content,'html.parser')\n",
    "    title = soup.title.string if soup.title else \"No title found.\"\n",
    "\n",
    "    for irrelevant in soup.body([\"script\",\"img\",\"style\",\"input\"]):\n",
    "       irrelevant.decompose()\n",
    "    text = soup.body.get_text(separator=\"\\n\",strip=True)\n",
    "    return title,text"
   ]
  },
  {
   "cell_type": "code",
   "execution_count": 32,
   "id": "12bf1249-31f1-4d26-a215-44a7105850f6",
   "metadata": {},
   "outputs": [],
   "source": [
    "def get_all_details_links(myurl):\n",
    "    result = \"Loading Page\\n\"\n",
    "    result += get_contents(title,text)\n",
    "    links = get_relevant_links(myurl)\n",
    "    print(\"The links are : \", links)\n",
    "    for link in links['links']:\n",
    "        page_url=link['url']\n",
    "        page_type=link.get('type','Link')\n",
    "        page_title,page_text= scrape_web(page_url)\n",
    "        result += f\"\\n\\n{page_type}\\n\"\n",
    "        result += get_contents(page_title,page_text)\n",
    "    return result"
   ]
  },
  {
   "cell_type": "code",
   "execution_count": 33,
   "id": "12e614a5-e433-4d39-9a1b-7cc8d6fe70f3",
   "metadata": {},
   "outputs": [
    {
     "name": "stdin",
     "output_type": "stream",
     "text": [
      "The name of the company is :  Hugging Face\n"
     ]
    }
   ],
   "source": [
    "company_name = input(\"The name of the company is : \")"
   ]
  },
  {
   "cell_type": "code",
   "execution_count": 34,
   "id": "3a98194d-371c-4705-a069-4f34043657ff",
   "metadata": {},
   "outputs": [],
   "source": [
    "system_prompt = \"You are an assistant that analyzes the contents of several relevant pages from a company website \\\n",
    "and creates a short humorous, entertaining, jokey brochure about the company for prospective customers, investors and recruits. Respond in markdown.\\\n",
    "Include details of company culture, customers and careers/jobs if you have the information.\""
   ]
  },
  {
   "cell_type": "code",
   "execution_count": 35,
   "id": "ac0828e2-bdbe-46ab-bfeb-1cfd3278a458",
   "metadata": {},
   "outputs": [],
   "source": [
    "def user_prompt(company_name,myurl):\n",
    "    user_prompt = f\"You are looking at a company called: {company_name}\\n\"\n",
    "    user_prompt += f\"Here are the contents of its landing page and other relevant pages; use this information to build a short brochure of the company in markdown.\\n\"\n",
    "    user_prompt += get_all_details_links(myurl)\n",
    "    return user_prompt"
   ]
  },
  {
   "cell_type": "code",
   "execution_count": 36,
   "id": "98600452-96a3-4883-b8e3-07bd077b1cc8",
   "metadata": {},
   "outputs": [
    {
     "name": "stdout",
     "output_type": "stream",
     "text": [
      "The links are :  {'links': [{'type': 'about page', 'url': 'https://huggingface.co/huggingface'}, {'type': 'careers page', 'url': 'https://apply.workable.com/huggingface/'}, {'type': 'company blog', 'url': 'https://huggingface.co/blog'}, {'type': 'enterprise page', 'url': 'https://huggingface.co/enterprise'}, {'type': 'pricing page', 'url': 'https://huggingface.co/pricing'}, {'type': 'documentation', 'url': 'https://huggingface.co/docs'}]}\n"
     ]
    }
   ],
   "source": [
    "messages_brochure=[\n",
    "    {'role':'system','content':system_prompt},\n",
    "    {'role':'user','content':user_prompt(company_name,myurl)}\n",
    "]"
   ]
  },
  {
   "cell_type": "code",
   "execution_count": 54,
   "id": "e632c1c2-b24b-4c41-81ee-fc62e789c30b",
   "metadata": {},
   "outputs": [],
   "source": [
    "def get_brochure(company_name,myurl):\n",
    "    response = openai.chat.completions.create(\n",
    "        messages = messages_brochure,\n",
    "        model = \"gpt-4o-mini\"\n",
    "    )\n",
    "    result = response.choices[0].message.content\n",
    "    return result"
   ]
  },
  {
   "cell_type": "code",
   "execution_count": 57,
   "id": "665d9759-08f4-4ee4-9609-821d0bc43a0a",
   "metadata": {},
   "outputs": [
    {
     "data": {
      "text/markdown": [
       "# 🥳 Welcome to Hugging Face – The AI Community Building Your Future! 🚀\n",
       "\n",
       "**Are you ready to hug the future of machine learning? 🐻🤗 Well, we've got a warm, fuzzy algorithm just for you!**\n",
       "\n",
       "---\n",
       "\n",
       "### 🌍 What is Hugging Face?\n",
       "\n",
       "At Hugging Face, we're not just another AI company; we’re the *life of the machine learning party*! With over **1 million models** and **250,000+ datasets**, our platform serves as the ultimate playground for **AI enthusiasts and experts** alike. Whether you want to discover the latest in AI apps or collaborate with a thriving community, we’re the place to be!\n",
       "\n",
       "### ☕ Culture: The Hugging Face Vibe\n",
       "\n",
       "#### **Open Source & Collaboration**  \n",
       "We're non-conformists, openly collaborating, and openly caring! Our community empowers every creator, engineer, and developer to help **democratize machine learning** — because why not share a little love? 💕 Plus, we have plenty of memes!\n",
       "\n",
       "#### **Work That Wows**  \n",
       "Here, your ideas are worth their weight in (virtual) gold! Whether you’re training machines or just training for a marathon of coding, you’ll find support, encouragement, and maybe even a virtual high-five. 🖐️\n",
       "\n",
       "### 💼 Careers: Join the Family\n",
       "\n",
       "Looking for a place to call home? Check out our job openings! We offer flexible contracts, competitive pay, and the chance to work with **50,000+ organizations**, including the likes of Google, Microsoft, and Grammarly. \n",
       "\n",
       "#### Perks of the Job:\n",
       "- **Before Coffee:** Work-life balance that makes you want to jump out of bed (well, almost). \n",
       "- **After Coffee:** Great support and team vibes that make every project sparkle! ✨\n",
       "\n",
       "---\n",
       "\n",
       "### 💰 Pricing: Embrace Your Inner Geek\n",
       "\n",
       "**Becoming a part of the Hugging Face family can be as sweet as a scoop of algorithm-flavored ice cream! 🍦**\n",
       "\n",
       "- **PRO Account**: Just **$9/month** for all the *cool* features and more storage than your brain can handle!\n",
       "- **Team Plan**: Only **$20/month** per user, because good things come in packs!\n",
       "- **Enterprise Plan**: Starting at **$50/month**, if you're trying to impress the entire office with AI smarts!\n",
       "\n",
       "---\n",
       "\n",
       "### 💡 Join the Future, Hugging Face Style!\n",
       "\n",
       "Ready to **TensorFlow** your dreams into reality? Whether you want to test your muscles against the latest models or just dabble in some friendly AI competitions, Hugging Face is the place for you! Join us today and let’s make the future as cuddly as a teddy bear! ❤️\n",
       "\n",
       "#### **Follow Us on Social** \n",
       "- [Twitter](https://twitter.com/huggingface)\n",
       "- [LinkedIn](https://linkedin.com/company/hugging-face)\n",
       "- [Discord](https://discord.gg/huggingface)\n",
       "\n",
       "---\n",
       "\n",
       "**🤗 Come for the models, stay for the hugs!** Because at Hugging Face, we believe that every neural network deserves a bear hug!"
      ],
      "text/plain": [
       "<IPython.core.display.Markdown object>"
      ]
     },
     "metadata": {},
     "output_type": "display_data"
    },
    {
     "name": "stdout",
     "output_type": "stream",
     "text": [
      "None\n"
     ]
    }
   ],
   "source": [
    "print(display(Markdown(get_brochure(company_name,myurl))))"
   ]
  },
  {
   "cell_type": "markdown",
   "id": "09594fc3-77b1-409b-a031-d014151fd0af",
   "metadata": {},
   "source": [
    "# Section 3 : [Optional] --> Stream the Brochure"
   ]
  },
  {
   "cell_type": "code",
   "execution_count": 39,
   "id": "466f6a8a-ea87-41a3-bdb2-c65d95538791",
   "metadata": {},
   "outputs": [],
   "source": [
    "# If you want to get the output like in CHATGPT like loading chunk by chunk here you go"
   ]
  },
  {
   "cell_type": "code",
   "execution_count": 40,
   "id": "c0e7b2a3-95de-404d-a187-1fd8c082bd1d",
   "metadata": {},
   "outputs": [],
   "source": [
    "def stream_brochure(company_name,myurl):\n",
    "    stream = openai.chat.completions.create(\n",
    "        messages = messages_brochure,\n",
    "        model = \"gpt-4o-mini\",\n",
    "        stream = True\n",
    "    )\n",
    "    response = \" \"\n",
    "    display_handle = display(Markdown(\"\"),display_id=True)\n",
    "    for chunk in stream:\n",
    "        response += chunk.choices[0].delta.content or ''\n",
    "        response = response.replace(\"```\",\"\")\n",
    "        response = response.replace(\"markdown\",\"\")\n",
    "        update_display(Markdown(response),display_id=display_handle.display_id)"
   ]
  },
  {
   "cell_type": "code",
   "execution_count": 41,
   "id": "72fd4832-5e1a-4138-b8d8-d9871857709b",
   "metadata": {},
   "outputs": [
    {
     "data": {
      "text/markdown": [
       " \n",
       "# Welcome to Hugging Face!\n",
       "**The AI community building the future** 🤖\n",
       "\n",
       "### Who Are We?\n",
       "At Hugging Face, we’re all about making machine learning accessible and enjoyable—like finding the last slice of pizza at a party! Our platform is a bustling hub for researchers, developers, and AI enthusiasts to collaborate, share, and deploy their own models, datasets, and applications. 🚀\n",
       "\n",
       "---\n",
       "\n",
       "### Our Offerings:\n",
       "- **1M+ Models** to choose from — because who would want to date just one?\n",
       "- **250k+ Datasets** to fuel your creativity (or your nefarious plans).\n",
       "- **Exciting Spaces** for your cool AI apps — think of it as your AI Airbnb, but with less avocado toast.\n",
       "- **Community Support** that’s always ready to give you a hug (virtually)!\n",
       "\n",
       "---\n",
       "\n",
       "### Our Customers:\n",
       "Join over **50,000 organizations**, including the cool kids like **Google, Microsoft, and Intel**. We provide them the tools to make machines smarter, while they make us feel special with their data. Who doesn’t love a techy fan club? 💼\n",
       "\n",
       "---\n",
       "\n",
       "### Careers at Hugging Face:\n",
       "Want to join the fun? We’re on a mission to democratize machine learning. If that sounds like your kind of party, **check out our job openings!** Whether you're a wizard codemaker or a number-crunching Sorcerer of Data, we’ve got a spot for you—just bring your magic! ✨\n",
       "\n",
       "**Perks of Joining Us:**\n",
       "- A culture as warm as a freshly baked cookie. 🍪\n",
       "- **Flexible hours**, because who doesn't love waking up at 10 AM? \n",
       "- Work with forward-thinkers who are shaping the future—without the stress of wearing business formal attire!\n",
       "\n",
       "---\n",
       "\n",
       "### Join Us Today!\n",
       "Dive into the world of AI with Hugging Face. Whether you're here for collaboration, jobs, or just to see what the buzz is about, we promise you a good time (and some cool models).\n",
       "\n",
       "**Ready to take the leap? [Join Us!](https://huggingface.co/sign-up)**\n",
       "\n",
       "*Remember: Hugging Face is not responsible for any sudden urges to hug a robot!* 🤗🤖\n",
       "\n"
      ],
      "text/plain": [
       "<IPython.core.display.Markdown object>"
      ]
     },
     "metadata": {},
     "output_type": "display_data"
    }
   ],
   "source": [
    "stream_brochure(company_name,myurl)"
   ]
  },
  {
   "cell_type": "markdown",
   "id": "b4e434c6-ba30-412f-95ce-851f79fdd627",
   "metadata": {},
   "source": [
    "# Section 4 : Converting the Brochure's language to Japanese"
   ]
  },
  {
   "cell_type": "code",
   "execution_count": 58,
   "id": "a518717d-cd2c-4eee-a9f9-9019090afcf8",
   "metadata": {},
   "outputs": [],
   "source": [
    "system_lang_prompt = \"\"\"\n",
    "You are a professional copywriter and translator.\n",
    "Your task is to take the provided brochure content and produce a Japanese version.\n",
    "\n",
    "Requirements:\n",
    "1. Translate all text into natural, fluent Japanese.\n",
    "2. Infuse humor and wit throughout, while keeping the original meaning and tone intact.\n",
    "   - Add light jokes, playful phrasing, and clever word choices that resonate with Japanese humor.\n",
    "   - Do not make it offensive or culturally inappropriate.\n",
    "3. Respond in markdown. Also, preserve the structure of the brochure (headings, subheadings, bullet points, formatting).\n",
    "4. Ensure the final text feels like a professionally written humorous Japanese brochure, not a literal translation.\n",
    "5. Keep the message persuasive, engaging, and audience-friendly.\n",
    "\n",
    "Always output only the Japanese humorous version of the brochure, nothing else.\n",
    "\"\"\""
   ]
  },
  {
   "cell_type": "code",
   "execution_count": 59,
   "id": "f5c6c985-ee86-4542-bbe2-c52aa439be16",
   "metadata": {},
   "outputs": [],
   "source": [
    "def user_lang_prompt_for(company_name,myurl):\n",
    "    user_prompt = f\"Here is the brochure text for {company_name}, retrieved from {myurl}.\\n\\n\"\n",
    "    user_prompt += \"Your task:\\n\"\n",
    "    user_prompt += \"1. Take this brochure content and translate it into natural, fluent Japanese.\\n\"\n",
    "    user_prompt += \"2. Infuse humor and wit throughout, while keeping the original meaning and tone intact.\\n\"\n",
    "    user_prompt += \"3. Keep the formatting, structure, and section flow (headings, bullet points, etc.) the same.\\n\"\n",
    "    user_prompt += \"4. Output only the final humorous Japanese brochure text, nothing else.\\n\\n\"\n",
    "    user_prompt += \"I want the response in form of markdown\\n\"\n",
    "    user_prompt += \"--- START BROCHURE CONTENT ---\\n\"\n",
    "    user_prompt += get_brochure(company_name,myurl)\n",
    "    return user_prompt"
   ]
  },
  {
   "cell_type": "code",
   "execution_count": 60,
   "id": "50121084-48a7-44bf-9629-166f8d504228",
   "metadata": {},
   "outputs": [],
   "source": [
    "def stream_lang_brochure(company_name,myurl):\n",
    "    stream = openai.chat.completions.create(\n",
    "        messages = [\n",
    "            {'role':'system','content':system_lang_prompt},\n",
    "            {'role':'user','content': user_lang_prompt_for(company_name,myurl)}\n",
    "        ],\n",
    "        model=\"gpt-4o-mini\",\n",
    "        stream=True\n",
    "    )\n",
    "    response = \" \"\n",
    "    display_handle = display(Markdown(\"\"),display_id=True)\n",
    "    for chunk in stream:\n",
    "        response += chunk.choices[0].delta.content or ''\n",
    "        response = response.replace('```','')\n",
    "        response = response.replace('markdown','')\n",
    "        update_display(Markdown(response),display_id=display_handle.display_id)"
   ]
  },
  {
   "cell_type": "code",
   "execution_count": 61,
   "id": "03c48cf0-b24e-4f89-95a8-cb112233ffc0",
   "metadata": {},
   "outputs": [
    {
     "data": {
      "text/markdown": [
       " # ハグフェイス：AIがハグをする場所！🤗\n",
       "\n",
       "---\n",
       "\n",
       "**ハグフェイスへようこそ！**  \n",
       "AI宇宙の柔らかい腕の中にたたずむ私たちは、ただモデルを作るためだけにいるわけではありません。ハグをしに来たのです！ハグフェイスでは、人工知能はもう少し…人間らしくあるべきだと信じています。\n",
       "\n",
       "---\n",
       "\n",
       "## どうしてハグフェイス？\n",
       "\n",
       "### 🤖 **モデルマニア**\n",
       "- **1百万以上のモデルをチェック！**: マイクロソフトの音声モデュレーションからミニテキストプロセッサまで、あなたのオバアちゃんも誇れるモデルが揃っています（AIが何か知っていればの話ですが）。\n",
       "- **データセットが盛りだくさん**: 250,000以上のデータセットの宝物をひと泳ぎしましょう！はい、あのデータセットもありますよ！\n",
       "\n",
       "### 🏗️ **アプリスペース無限大**\n",
       "- **アプリケーションスペースを運営**: 汗をかかずに自分のアプリを作りたいと思ったことはありませんか？私たちと一緒なら、「機械学習」と言うより早くAIアプリケーションを立ち上げられます！\n",
       "\n",
       "---\n",
       "\n",
       "## 会社文化：コードとハートを持ってきてね 👩‍💻❤️👨‍💻\n",
       "いい機械学習を**民主化する**というミッションのもと、私たちはフレンドリーなコミットを一つずつ実現しています。私たちはAI愛好家の幸せな部族、協力と多様性を祝って、時にはAIのバースデーパーティーまで楽しんでいます🥳。\n",
       "\n",
       "ここではあなたができます：\n",
       "- **ゼロGPUパワー**でMLウィザードになりきる！🧙‍♂️\n",
       "- 自分の作品をオープンにシェアし、MLポートフォリオを作成。腕前を見せつけるのにこれ以上の方法はありませんよね？\n",
       "- **50,000以上の組織**、Googleやマイクロソフトのような大企業に参加。バーチャルで肩を組み、アイデアを共有しましょう！\n",
       "\n",
       "---\n",
       "\n",
       "### キャリアチャンス：楽しさのある場所で働こう！🌟\n",
       "お気に入りのフーディを着て、AIの未来に貢献したいですか？機械学習の世界に飛び込む好奇心旺盛なマインドを歓迎します！オープンな役職をチェックして、あなたの内なるコーディング忍者を解き放ちましょう！🥷\n",
       "\n",
       "---\n",
       "\n",
       "## 価格：💰 すべての予算に対応\n",
       "- **プロプラン**: 月額たったの9ドル。AIには**エクストラクレジットとストレージ**が必要ですね。\n",
       "- **チームプラン**: 月額20ドル/ユーザーで、成長するチームに最適な安全な共同作業スペースを提供。\n",
       "- **エンタープライズパッケージ**: スケールアップの準備ができたら、もしかしたらユニコーンも見つけられるかもしれません。🦄\n",
       "\n",
       "---\n",
       "\n",
       "## ハグムーブメントに参加しよう！\n",
       "ただの観客にならず、ハグが必要なAI革命の一部になりましょう！  \n",
       "さあ、サインアップして、マシンラーニングの冒険にちょっとした温もりを持ち込みましょう。結局のところ、ハグとともに顔が欲しくない人なんているでしょうか？\n",
       "\n",
       "---\n",
       "\n",
       "**ハグフェイス - 未来を築くAIコミュニティ！**  \n",
       "AIを楽しみに来て、ハグで帰る！🤗\n",
       "\n",
       "[もっと見る！](https://huggingface.co)  \n",
       "**フォローしてね**: [Twitter](https://twitter.com/huggingface) - [Discord](https://discord.gg/huggingface) - [GitHub](https://github.com/huggingface)\n",
       "\n",
       "---\n",
       "\n",
       "あなたがAIを革命的に変えようとしているのか、ただ楽しく学びたいだけなのか、ハグフェイスがあなたを待っています！🎉"
      ],
      "text/plain": [
       "<IPython.core.display.Markdown object>"
      ]
     },
     "metadata": {},
     "output_type": "display_data"
    }
   ],
   "source": [
    "stream_lang_brochure(company_name,myurl)"
   ]
  }
 ],
 "metadata": {
  "kernelspec": {
   "display_name": "Python 3 (ipykernel)",
   "language": "python",
   "name": "python3"
  },
  "language_info": {
   "codemirror_mode": {
    "name": "ipython",
    "version": 3
   },
   "file_extension": ".py",
   "mimetype": "text/x-python",
   "name": "python",
   "nbconvert_exporter": "python",
   "pygments_lexer": "ipython3",
   "version": "3.11.13"
  }
 },
 "nbformat": 4,
 "nbformat_minor": 5
}
