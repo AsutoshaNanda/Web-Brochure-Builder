{
 "cells": [
  {
   "cell_type": "code",
   "execution_count": 1,
   "id": "99739339-6015-43df-b7ca-ce93612a6736",
   "metadata": {},
   "outputs": [],
   "source": [
    "import os\n",
    "import requests\n",
    "from bs4 import BeautifulSoup\n",
    "from typing import List\n",
    "from dotenv import load_dotenv\n",
    "from openai import OpenAI\n",
    "import google.generativeai\n",
    "from IPython.display import update_display, display, Markdown\n",
    "import anthropic\n",
    "import gradio as gr"
   ]
  },
  {
   "cell_type": "code",
   "execution_count": 2,
   "id": "3faeb789-f804-4103-ba3f-41204bef88ba",
   "metadata": {},
   "outputs": [
    {
     "name": "stdout",
     "output_type": "stream",
     "text": [
      "OpenAI API Key exists and begins sk-proj-\n",
      "Anthropic API Key exists and begins sk-ant-\n",
      "Google API Key exists and begins AIzaSyCp\n"
     ]
    }
   ],
   "source": [
    "load_dotenv()\n",
    "openai_api_key = os.getenv('OPENAI_API_KEY')\n",
    "anthropic_api_key = os.getenv('ANTHROPIC_API_KEY')\n",
    "google_api_key = os.getenv('GOOGLE_API_KEY')\n",
    "\n",
    "if openai_api_key:\n",
    "    print(f\"OpenAI API Key exists and begins {openai_api_key[:8]}\")\n",
    "else:\n",
    "    print(\"OpenAI API Key not set\")\n",
    "    \n",
    "if anthropic_api_key:\n",
    "    print(f\"Anthropic API Key exists and begins {anthropic_api_key[:7]}\")\n",
    "else:\n",
    "    print(\"Anthropic API Key not set\")\n",
    "\n",
    "if google_api_key:\n",
    "    print(f\"Google API Key exists and begins {google_api_key[:8]}\")\n",
    "else:\n",
    "    print(\"Google API Key not set\")"
   ]
  },
  {
   "cell_type": "code",
   "execution_count": 3,
   "id": "268960bd-2fc3-47e1-84c7-5aaae42f4e3d",
   "metadata": {},
   "outputs": [],
   "source": [
    "openai = OpenAI()\n",
    "claude = anthropic.Anthropic()\n",
    "google.generativeai.configure()"
   ]
  },
  {
   "cell_type": "code",
   "execution_count": 4,
   "id": "ee5eefe4-a01d-48ff-8012-bf8ce4c9e431",
   "metadata": {},
   "outputs": [],
   "source": [
    "system_prompt = \"You are an assistant that analyzes the contents of a company website landing page \\\n",
    "and creates a short brochure about the company for prospective customers, investors and recruits. Respond in markdown.\""
   ]
  },
  {
   "cell_type": "code",
   "execution_count": 5,
   "id": "eef9f3e0-eea4-4adc-bfa9-b111df5543d8",
   "metadata": {},
   "outputs": [],
   "source": [
    "def stream_gpt(prompt):\n",
    "    stream = openai.chat.completions.create(\n",
    "        messages = [\n",
    "            {'role':'system','content':system_prompt},\n",
    "            {'role':'user','content':prompt}\n",
    "        ],\n",
    "        model = 'gpt-4o-mini',\n",
    "        stream = True\n",
    "    )\n",
    "    response = ''\n",
    "    for chunk in stream:\n",
    "        response += chunk.choices[0].delta.content or ''\n",
    "        response = response.replace('```','').replace('markdown','')\n",
    "        yield response"
   ]
  },
  {
   "cell_type": "code",
   "execution_count": 6,
   "id": "91730c77-307d-48bf-acd9-3e6f967bad70",
   "metadata": {},
   "outputs": [],
   "source": [
    "def stream_claude(prompt):\n",
    "    response = claude.messages.stream(\n",
    "        max_tokens = 5000,\n",
    "        model ='claude-3-7-sonnet-20250219',\n",
    "        system= system_prompt,\n",
    "        messages = [{'role':'user','content':prompt}]\n",
    "    )\n",
    "    result =''\n",
    "    with response as stream:\n",
    "        for text in stream.text_stream:\n",
    "            result += text or ''\n",
    "            yield result"
   ]
  },
  {
   "cell_type": "code",
   "execution_count": 7,
   "id": "0e8500a0-9bd8-4e39-8d7f-9a1cfdec9175",
   "metadata": {},
   "outputs": [],
   "source": [
    "def stream_gemini(prompt):\n",
    "    gemini = google.generativeai.GenerativeModel(\n",
    "        model_name='gemini-2.5-flash-lite',\n",
    "        system_instruction=system_prompt\n",
    "    )\n",
    "\n",
    "    result = gemini.generate_content(prompt, stream=True)\n",
    "    response = ''\n",
    "    for chunk in result:\n",
    "        if chunk.text:               \n",
    "            response += chunk.text\n",
    "            yield response"
   ]
  },
  {
   "cell_type": "markdown",
   "id": "e47a1fd1-1cbc-4423-b589-c975153a10db",
   "metadata": {},
   "source": [
    "# Web Scrapping to make a Brochure"
   ]
  },
  {
   "cell_type": "code",
   "execution_count": 8,
   "id": "4f8d53d2-278d-420a-bf84-d188bc77e02e",
   "metadata": {},
   "outputs": [],
   "source": [
    "def scape_webpage(myurl):\n",
    "    '''Scrape any webpage easily using this function'''\n",
    "    response = requests.get(myurl)\n",
    "    soup = BeautifulSoup(response.content,'html.parser')\n",
    "\n",
    "    title = soup.title.string if soup.title else \"No Title found.\"\n",
    "\n",
    "    for irrelevant in soup.body(['script','style','img','input']):\n",
    "        irrelevant.decompose()\n",
    "    text = soup.body.get_text(separator = '\\n', strip = True)\n",
    "\n",
    "    return f\"Webpage Title:\\n{title}\\nWebpage Contents:\\n{text}\\n\\n\""
   ]
  },
  {
   "cell_type": "code",
   "execution_count": 9,
   "id": "1d6c5afb-3083-41a5-b58f-3ac2d4a0c853",
   "metadata": {},
   "outputs": [],
   "source": [
    "def stream_brochure(company_name,myurl,model):\n",
    "    prompt = f\"Please generate a company brochure for {company_name}. Here is their landing page:\\n\"\n",
    "    prompt += scape_webpage(myurl)\n",
    "    if model =='GPT':\n",
    "        response = stream_gpt(prompt)\n",
    "    elif model =='Claude':\n",
    "        response = stream_claude(prompt)\n",
    "    elif model =='Gemini':\n",
    "        response = stream_gemini(prompt)\n",
    "    else:\n",
    "        raise ValueError('Model Not Found')\n",
    "\n",
    "    yield from response"
   ]
  },
  {
   "cell_type": "code",
   "execution_count": 11,
   "id": "917a9025-711f-4d0d-a853-141354a7bf6e",
   "metadata": {},
   "outputs": [
    {
     "name": "stderr",
     "output_type": "stream",
     "text": [
      "/opt/anaconda3/envs/llms/lib/python3.11/site-packages/gradio/interface.py:414: UserWarning: The `allow_flagging` parameter in `Interface` is deprecated. Use `flagging_mode` instead.\n",
      "  warnings.warn(\n"
     ]
    },
    {
     "name": "stdout",
     "output_type": "stream",
     "text": [
      "* Running on local URL:  http://127.0.0.1:7860\n",
      "* Running on public URL: https://762f641535c40b8b54.gradio.live\n",
      "\n",
      "This share link expires in 1 week. For free permanent hosting and GPU upgrades, run `gradio deploy` from the terminal in the working directory to deploy to Hugging Face Spaces (https://huggingface.co/spaces)\n"
     ]
    },
    {
     "data": {
      "text/html": [
       "<div><iframe src=\"https://762f641535c40b8b54.gradio.live\" width=\"100%\" height=\"500\" allow=\"autoplay; camera; microphone; clipboard-read; clipboard-write;\" frameborder=\"0\" allowfullscreen></iframe></div>"
      ],
      "text/plain": [
       "<IPython.core.display.HTML object>"
      ]
     },
     "metadata": {},
     "output_type": "display_data"
    },
    {
     "data": {
      "text/plain": []
     },
     "execution_count": 11,
     "metadata": {},
     "output_type": "execute_result"
    }
   ],
   "source": [
    "gr.Interface(\n",
    "    fn = stream_brochure,\n",
    "    inputs = [gr.Textbox(label = 'Company Name'),\n",
    "              gr.Textbox(label= 'URL'),\n",
    "              gr.Dropdown(['GPT','Claude','Gemini'],label = 'Select Your Model')\n",
    "             ],\n",
    "    outputs = [gr.Markdown('Brochure:')],\n",
    "    allow_flagging = 'never'\n",
    ").launch(share=True)"
   ]
  },
  {
   "cell_type": "code",
   "execution_count": null,
   "id": "c75f316c-998c-4d02-b811-ac619e65f7a1",
   "metadata": {},
   "outputs": [],
   "source": []
  }
 ],
 "metadata": {
  "kernelspec": {
   "display_name": "Python 3 (ipykernel)",
   "language": "python",
   "name": "python3"
  },
  "language_info": {
   "codemirror_mode": {
    "name": "ipython",
    "version": 3
   },
   "file_extension": ".py",
   "mimetype": "text/x-python",
   "name": "python",
   "nbconvert_exporter": "python",
   "pygments_lexer": "ipython3",
   "version": "3.11.13"
  }
 },
 "nbformat": 4,
 "nbformat_minor": 5
}
