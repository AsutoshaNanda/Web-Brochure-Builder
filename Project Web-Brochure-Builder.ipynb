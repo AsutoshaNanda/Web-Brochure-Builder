{
 "cells": [
  {
   "cell_type": "markdown",
   "id": "80f220f2-4c48-4917-8aa4-cd0979147623",
   "metadata": {},
   "source": [
    "# Sections 1 : Get the Relevant Links"
   ]
  },
  {
   "cell_type": "code",
   "execution_count": 46,
   "id": "41a5eb75-2d32-49df-8f16-b36a0ab8ee6f",
   "metadata": {},
   "outputs": [],
   "source": [
    "import os \n",
    "import requests\n",
    "import json\n",
    "import validators\n",
    "from bs4 import BeautifulSoup\n",
    "from openai import OpenAI\n",
    "from IPython.display import Markdown, display, update_display\n",
    "from dotenv import load_dotenv"
   ]
  },
  {
   "cell_type": "code",
   "execution_count": 5,
   "id": "8b3a2b1c-e1b6-4fc2-8a41-ddc693335a4d",
   "metadata": {},
   "outputs": [
    {
     "name": "stdout",
     "output_type": "stream",
     "text": [
      "API key found and looks good so far!\n"
     ]
    }
   ],
   "source": [
    "load_dotenv()\n",
    "api_key = os.getenv(\"OPENAI_API_KEY\")\n",
    "\n",
    "if not api_key:\n",
    "    print(\"No API key was found - please head over to the troubleshooting notebook in this folder to identify & fix!\")\n",
    "elif not api_key.split() != api_key:\n",
    "    print(\"An API key was found, but it looks like it might have space or tab characters at the start or end - please remove them - see troubleshooting notebook\")\n",
    "elif api_key[:8] != \"sk-proj-\":\n",
    "    print(\"An API key was found, but it doesn't start sk-proj-; please check you're using the right key - see troubleshooting notebook\")\n",
    "else :\n",
    "    print(\"API key found and looks good so far!\")"
   ]
  },
  {
   "cell_type": "code",
   "execution_count": 6,
   "id": "3a8f77d3-f3fa-4228-bdc7-e0afd0d3e42d",
   "metadata": {},
   "outputs": [],
   "source": [
    "openai = OpenAI()"
   ]
  },
  {
   "cell_type": "code",
   "execution_count": 7,
   "id": "84442202-5be4-4d89-993d-bc459de1c3e9",
   "metadata": {},
   "outputs": [],
   "source": [
    "headers = { \"User-Agent\": \"Mozilla/5.0 (Windows NT 10.0; Win64; x64) AppleWebKit/537.36 (KHTML, like Gecko) Chrome/117.0.0.0 Safari/537.36\"}"
   ]
  },
  {
   "cell_type": "code",
   "execution_count": 10,
   "id": "5fa02833-cb8f-47cd-aa7e-24e76ebdda4e",
   "metadata": {},
   "outputs": [
    {
     "name": "stdin",
     "output_type": "stream",
     "text": [
      "Enter the required URL https://huggingface.co/\n"
     ]
    },
    {
     "name": "stdout",
     "output_type": "stream",
     "text": [
      "Valid URL.\n"
     ]
    }
   ],
   "source": [
    "myurl = input(\"Enter the required URL\")\n",
    "\n",
    "if validators.url(myurl):\n",
    "    print(\"Valid URL.\")\n",
    "else:\n",
    "    print(\"Invalid URL\")"
   ]
  },
  {
   "cell_type": "code",
   "execution_count": 11,
   "id": "0afa24a9-fa1a-4476-8d49-b780120cbd9a",
   "metadata": {},
   "outputs": [],
   "source": [
    "response = requests.get(myurl,headers=headers)"
   ]
  },
  {
   "cell_type": "code",
   "execution_count": 15,
   "id": "f9f0f618-4fb8-4889-bba1-628c02b767c0",
   "metadata": {},
   "outputs": [
    {
     "name": "stdout",
     "output_type": "stream",
     "text": [
      "200\n"
     ]
    }
   ],
   "source": [
    "print(response.status_code)"
   ]
  },
  {
   "cell_type": "code",
   "execution_count": 16,
   "id": "cff750b0-b481-4179-ba97-6ba83377d2f7",
   "metadata": {},
   "outputs": [],
   "source": [
    "soup=BeautifulSoup(response.content,'html.parser')"
   ]
  },
  {
   "cell_type": "code",
   "execution_count": 17,
   "id": "7c069b73-269c-4410-9bab-bff3a63626a3",
   "metadata": {},
   "outputs": [],
   "source": [
    "title = soup.title.string if soup.title else \"No title found.\"\n",
    "\n",
    "for irrelevant in soup.body([\"script\",\"img\",\"style\",\"input\"]):\n",
    "    irrelevant.decompose()\n",
    "text = soup.body.get_text(separator=\"\\n\",strip=True)"
   ]
  },
  {
   "cell_type": "code",
   "execution_count": 33,
   "id": "c4b8786d-09f8-47ca-afe8-fd7993809493",
   "metadata": {},
   "outputs": [],
   "source": [
    "def get_contents(title,text):\n",
    "    return f\"Webpage Title:\\n{title}\\nWebpage Contents:\\n{text}\\n\\n\""
   ]
  },
  {
   "cell_type": "code",
   "execution_count": 19,
   "id": "0af9c0c8-3ee5-488c-a9db-5df60a10de2b",
   "metadata": {},
   "outputs": [],
   "source": [
    "all_links = soup.find_all('a')\n",
    "links = [link.get('href') for link in all_links if link.get('href')]"
   ]
  },
  {
   "cell_type": "code",
   "execution_count": 22,
   "id": "e19dd4e3-4a25-4186-ac92-7a12e406d275",
   "metadata": {},
   "outputs": [],
   "source": [
    "system_links_prompt = \"You are provided with a list of links found on a webpage. \\\n",
    "You are able to decide which of the links would be most relevant to include in a brochure about the company, \\\n",
    "such as links to an About page, or a Company page, or Careers/Jobs pages.\\n\"\n",
    "system_links_prompt += \"You should respond in JSON as in this example:\"\n",
    "\n",
    "system_links_prompt +=\"\"\"\n",
    "{\n",
    "\"links\": [\n",
    "        {\"type\": \"about page\", \"url\": \"https://full.url/goes/here/about\"},\n",
    "        {\"type\": \"careers page\", \"url\": \"https://another.full.url/careers\"}\n",
    "    ]\n",
    "}\n",
    "\"\"\""
   ]
  },
  {
   "cell_type": "code",
   "execution_count": 23,
   "id": "ce7005e0-6750-4a3e-85b2-acc99608fdde",
   "metadata": {},
   "outputs": [],
   "source": [
    "def get_user_links_prompt(myurl):\n",
    "    user_prompt = f\"Here is the list of links on the website of {myurl} - \"\n",
    "    user_prompt += \"please decide which of these are relevant web links for a brochure about the company, respond with the full https URL in JSON format. \\\n",
    "Do not include Terms of Service, Privacy, email links.\\n\"\n",
    "    user_prompt += \"Links (some might be relative links):\\n\"\n",
    "    user_prompt += \"\\n\".join(links)\n",
    "    return user_prompt"
   ]
  },
  {
   "cell_type": "code",
   "execution_count": 25,
   "id": "c5ae44a6-5533-4943-af86-9f8ea1a91199",
   "metadata": {},
   "outputs": [],
   "source": [
    "messages_links = [\n",
    "    {'role':'system','content':system_links_prompt},\n",
    "    {'role':'user','content':get_user_links_prompt(myurl)}\n",
    "]"
   ]
  },
  {
   "cell_type": "code",
   "execution_count": 28,
   "id": "7d6fe9e9-415a-42d9-921e-46af8dcd98e5",
   "metadata": {},
   "outputs": [],
   "source": [
    "def get_relevant_links(myurl):\n",
    "    response= openai.chat.completions.create(\n",
    "        messages = messages_links,\n",
    "        model=\"gpt-4o-mini\",\n",
    "        response_format= {'type':'json_object'}\n",
    "    )\n",
    "    result = response.choices[0].message.content\n",
    "    return json.loads(result)"
   ]
  },
  {
   "cell_type": "code",
   "execution_count": 29,
   "id": "ad10d99f-675a-49d7-bf99-d391d7800499",
   "metadata": {},
   "outputs": [
    {
     "data": {
      "text/plain": [
       "{'links': [{'type': 'about page', 'url': 'https://huggingface.co/huggingface'},\n",
       "  {'type': 'careers page', 'url': 'https://apply.workable.com/huggingface/'},\n",
       "  {'type': 'enterprise page', 'url': 'https://huggingface.co/enterprise'},\n",
       "  {'type': 'blog page', 'url': 'https://huggingface.co/blog'},\n",
       "  {'type': 'company page', 'url': 'https://huggingface.co/brand'},\n",
       "  {'type': 'community page', 'url': 'https://discuss.huggingface.co'},\n",
       "  {'type': 'status page', 'url': 'https://status.huggingface.co/'},\n",
       "  {'type': 'GitHub page', 'url': 'https://github.com/huggingface'},\n",
       "  {'type': 'LinkedIn page',\n",
       "   'url': 'https://www.linkedin.com/company/huggingface/'},\n",
       "  {'type': 'Twitter page', 'url': 'https://twitter.com/huggingface'}]}"
      ]
     },
     "execution_count": 29,
     "metadata": {},
     "output_type": "execute_result"
    }
   ],
   "source": [
    "get_relevant_links(myurl)"
   ]
  },
  {
   "cell_type": "markdown",
   "id": "32071a1d-602d-4692-a395-2427f59d1257",
   "metadata": {},
   "source": [
    "# Section 2 : Making the Brochure"
   ]
  },
  {
   "cell_type": "code",
   "execution_count": 30,
   "id": "d436708d-bfb2-4e63-9054-ed3bd772bd6b",
   "metadata": {},
   "outputs": [],
   "source": [
    "def scrape_web(myurl):\n",
    "    response = response = requests.get(myurl,headers=headers)\n",
    "    soup=BeautifulSoup(response.content,'html.parser')\n",
    "    title = soup.title.string if soup.title else \"No title found.\"\n",
    "\n",
    "    for irrelevant in soup.body([\"script\",\"img\",\"style\",\"input\"]):\n",
    "       irrelevant.decompose()\n",
    "    text = soup.body.get_text(separator=\"\\n\",strip=True)\n",
    "    return title,text"
   ]
  },
  {
   "cell_type": "code",
   "execution_count": 37,
   "id": "12bf1249-31f1-4d26-a215-44a7105850f6",
   "metadata": {},
   "outputs": [],
   "source": [
    "def get_all_details_links(myurl):\n",
    "    result = \"Loading Page\\n\"\n",
    "    result += get_contents(title,text)\n",
    "    links = get_relevant_links(myurl)\n",
    "    print(\"The links are : \", links)\n",
    "    for link in links['links']:\n",
    "        page_url=link['url']\n",
    "        page_type=link.get('type','Link')\n",
    "        page_title,page_text= scrape_web(page_url)\n",
    "        result += f\"\\n\\n{page_type}\\n\"\n",
    "        result += get_contents(page_title,page_text)\n",
    "    return result"
   ]
  },
  {
   "cell_type": "code",
   "execution_count": 32,
   "id": "12e614a5-e433-4d39-9a1b-7cc8d6fe70f3",
   "metadata": {},
   "outputs": [
    {
     "name": "stdin",
     "output_type": "stream",
     "text": [
      "The name of the company is :  Hugging Face\n"
     ]
    }
   ],
   "source": [
    "company_name = input(\"The name of the company is : \")"
   ]
  },
  {
   "cell_type": "code",
   "execution_count": 39,
   "id": "3a98194d-371c-4705-a069-4f34043657ff",
   "metadata": {},
   "outputs": [],
   "source": [
    "system_prompt = \"You are an assistant that analyzes the contents of several relevant pages from a company website \\\n",
    "and creates a short humorous, entertaining, jokey brochure about the company for prospective customers, investors and recruits. Respond in markdown.\\\n",
    "Include details of company culture, customers and careers/jobs if you have the information.\""
   ]
  },
  {
   "cell_type": "code",
   "execution_count": 40,
   "id": "ac0828e2-bdbe-46ab-bfeb-1cfd3278a458",
   "metadata": {},
   "outputs": [],
   "source": [
    "def user_prompt(company_name,myurl):\n",
    "    user_prompt = f\"You are looking at a company called: {company_name}\\n\"\n",
    "    user_prompt += f\"Here are the contents of its landing page and other relevant pages; use this information to build a short brochure of the company in markdown.\\n\"\n",
    "    user_prompt += get_all_details_links(myurl)\n",
    "    return user_prompt"
   ]
  },
  {
   "cell_type": "code",
   "execution_count": 42,
   "id": "98600452-96a3-4883-b8e3-07bd077b1cc8",
   "metadata": {},
   "outputs": [
    {
     "name": "stdout",
     "output_type": "stream",
     "text": [
      "The links are :  {'links': [{'type': 'about page', 'url': 'https://huggingface.co/'}, {'type': 'careers page', 'url': 'https://apply.workable.com/huggingface/'}, {'type': 'company page', 'url': 'https://huggingface.co/enterprise'}, {'type': 'blog page', 'url': 'https://huggingface.co/blog'}, {'type': 'community page', 'url': 'https://discuss.huggingface.co'}, {'type': 'github page', 'url': 'https://github.com/huggingface'}, {'type': 'linkedin page', 'url': 'https://www.linkedin.com/company/huggingface/'}, {'type': 'twitter page', 'url': 'https://twitter.com/huggingface'}]}\n"
     ]
    }
   ],
   "source": [
    "messages_brochure=[\n",
    "    {'role':'system','content':system_prompt},\n",
    "    {'role':'user','content':user_prompt(company_name,myurl)}\n",
    "]"
   ]
  },
  {
   "cell_type": "code",
   "execution_count": 48,
   "id": "e632c1c2-b24b-4c41-81ee-fc62e789c30b",
   "metadata": {},
   "outputs": [],
   "source": [
    "def get_brochure(company_name,myurl):\n",
    "    response = openai.chat.completions.create(\n",
    "        messages = messages_brochure,\n",
    "        model = \"gpt-4o-mini\"\n",
    "    )\n",
    "    result = response.choices[0].message.content\n",
    "    display(Markdown(result))"
   ]
  },
  {
   "cell_type": "code",
   "execution_count": 49,
   "id": "665d9759-08f4-4ee4-9609-821d0bc43a0a",
   "metadata": {},
   "outputs": [
    {
     "data": {
      "text/markdown": [
       "# 🤗 **Welcome to Hugging Face's Brochure!** 🤗\n",
       "\n",
       "### **The AI Community Building the Future!**\n",
       "Join us on this thrilling adventure into the world of Machine Learning — where code writes poetry and data dances!\n",
       "\n",
       "---\n",
       "\n",
       "### **What's the Buzz?** 🐝\n",
       "\n",
       "1. **Models Galore!**\n",
       "   With over **1 million models** available, we’re basically the Amazon of AI – if AWS sold teddy bears instead of cloud services. From text to images, we’ve got it all.\n",
       "  \n",
       "2. **Datasets That Make You Go \"Wow!\"**\n",
       "   Need data for your next blockbuster ML project? With **250,000+ datasets** at your fingertips, you’ll be swimming in information faster than a neural network can train! (No scuba gear required.)\n",
       "\n",
       "3. **Spaces to Create!**\n",
       "   We offer **400,000+ applications** and a bunch of running projects – including video generation that’ll have you saying, “Why didn’t I think of that?” \n",
       "\n",
       "---\n",
       "\n",
       "### **Culture & Community: Where Hugging Happens!** 🥰\n",
       "\n",
       "At Hugging Face, we believe in collaboration! Our company culture is as warm as a freshly baked cookie. \n",
       "\n",
       "- **Open Source Organization**: We build **together** - because why do it alone when you can have pals to help? \n",
       "- **Community Driven**: From casual discussions on forum posts (“How do I delete my account?”) to brainstorming the next big AI revolution, everyone’s voice matters. Plus, you can even join debates on whether a tomato is a fruit or vegetable while working on that complex model! 🍅\n",
       "\n",
       "---\n",
       "\n",
       "### **Diverse (and Fun) Careers!**\n",
       "Imagine a workplace where you can wear your *favorite* AI t-shirt while computing the secrets of the universe! \n",
       "\n",
       "- **Current Opportunities:** If you’re passionate about crafting machine learning models, we have roles tailored just for you. \n",
       "- **Benefits that’ll Melt Your Heart**: Competitive pays, the flexibility of remote work, and a community that encourages you to innovate without limits.\n",
       "\n",
       "**Apply today and join us — because AI awaits no one!** 🚀\n",
       "\n",
       "---\n",
       "\n",
       "### **Customer Cheering Section!**\n",
       "Join **over 50,000 organizations** including:\n",
       "- Google\n",
       "- Amazon\n",
       "- Microsoft\n",
       "- Your cool neighbor who speaks fluent Python!\n",
       "\n",
       "They trust us with their ML projects. Why not join the club? 🎉\n",
       "\n",
       "---\n",
       "\n",
       "### **Join the Hug Squad!**\n",
       "Ready to jump into the future? Sign up today and experience how Hugging Face can reshape your perception of AI!\n",
       "\n",
       "👉 [Join Now!](https://huggingface.co/sign-up)\n",
       "\n",
       "---\n",
       "### **Punny Terminology:**\n",
       "- **Weights & Biases**: Not just for clothes! (But also clothes, mind you.)\n",
       "- **Training**: Not just a gym term! Get your models pumping! 💪\n",
       "- **Inference**: Using the brain. (We use our computers – close enough!)\n",
       "\n",
       "--- \n",
       "\n",
       "Hugging Face: The whimsical world where AI meets camaraderie, and you're invited to join the fun! \n",
       "\n",
       "### **Contact Us!**\n",
       "- **Email**: hello@huggingface.co\n",
       "- **Follow us**: [Twitter](https://twitter.com/huggingface) | [LinkedIn](https://linkedin.com/company/hugging-face)\n",
       "\n",
       "Let's revolutionize AI together — one hug at a time! 🤗"
      ],
      "text/plain": [
       "<IPython.core.display.Markdown object>"
      ]
     },
     "metadata": {},
     "output_type": "display_data"
    }
   ],
   "source": [
    "get_brochure(company_name,myurl)"
   ]
  },
  {
   "cell_type": "markdown",
   "id": "09594fc3-77b1-409b-a031-d014151fd0af",
   "metadata": {},
   "source": [
    "# Section 3 : [Optional] --> Stream the Brochure"
   ]
  },
  {
   "cell_type": "code",
   "execution_count": null,
   "id": "466f6a8a-ea87-41a3-bdb2-c65d95538791",
   "metadata": {},
   "outputs": [],
   "source": [
    "# If you want to get the output like in CHATGPT like loading chunk by chunk here you go"
   ]
  },
  {
   "cell_type": "code",
   "execution_count": 50,
   "id": "c0e7b2a3-95de-404d-a187-1fd8c082bd1d",
   "metadata": {},
   "outputs": [],
   "source": [
    "def stream_brochure(company_name,myurl):\n",
    "    stream = openai.chat.completions.create(\n",
    "        messages = messages_brochure,\n",
    "        model = \"gpt-4o-mini\",\n",
    "        stream = True\n",
    "    )\n",
    "    response = \" \"\n",
    "    display_handle = display(Markdown(\"\"),display_id=True)\n",
    "    for chunk in stream:\n",
    "        response += chunk.choices[0].delta.content or ''\n",
    "        response = response.replace(\"```\",\"\")\n",
    "        response = response.replace(\"markdown\",\"\")\n",
    "        update_display(Markdown(response),display_id=display_handle.display_id)"
   ]
  },
  {
   "cell_type": "code",
   "execution_count": 51,
   "id": "72fd4832-5e1a-4138-b8d8-d9871857709b",
   "metadata": {},
   "outputs": [
    {
     "data": {
      "text/markdown": [
       " # Welcome to Hugging Face: The AI Community Snuggling Up for the Future!\n",
       "\n",
       "### 🤗 Where AI and Passion Hug it Out\n",
       "\n",
       "At **Hugging Face**, we’re not just building AI; we're crafting a community that's as warm and fuzzy as a teddy bear on a snow day. Join about **50,000+ organizations** that are cozying up with us, from Google and Amazon to little startups hoping to one day be as cuddly as we are.\n",
       "\n",
       "---\n",
       "\n",
       "### 🧠 Our Superpowers: Models, Datasets, and Spaces\n",
       "\n",
       "- **Models**: Over **1,000,000** handpicked AI models snuggled up and waiting just for you. It's like a well-kept library but without the late fees!\n",
       "  \n",
       "- **Datasets**: With a treasure trove of **250,000 datasets**, we make sure you have everything you need to keep your algorithms well-fed. No more hungry AIs around here!\n",
       "\n",
       "- **Spaces**: Create and collaborate in **12.5k Spaces**. Imagine social media but for coders, minus the trolls and with way more data!\n",
       "\n",
       "---\n",
       "\n",
       "### 🌍 Our Community: The Ultimate Support Group\n",
       "\n",
       "Our community is like a warm blanket over a cold dataset. It’s where novice tinkerers become AI wizards, and seasoned developers can roll in the *magic of collaboration*. Whether you're a newbie or a tech wizard, we’ve got your back—no judgment, just support!\n",
       "\n",
       "---\n",
       "\n",
       "### 💼 Careers: Join Us on This Cozy Journey!\n",
       "\n",
       "At Hugging Face, we don’t just want employees; we’re looking for future members of our feel-good family! We offer:\n",
       "\n",
       "- **Flexible Work Arrangements**: Work from a cozy nook or your local café—pants optional (unless you’re on video calls).\n",
       "- **AI-Powered Projects**: Get your hands messy with state-of-the-art tech without all the boring corporate stuff!\n",
       "- **Community Spirit**: You’ll never face your coding woes alone—trust us, your teammates have got your back (and good snacks).\n",
       "\n",
       "---\n",
       "\n",
       "### 🎉 Join the Hugging Face Family!\n",
       "\n",
       "Want to be part of something that’s growing faster than a weed in spring? If you're passionate about **machine learning**, **natural language processing**, or just love a community that gives back, check out our [careers page](https://huggingface.co/careers)! \n",
       "\n",
       "---\n",
       "\n",
       "### 🎈 Why Choose Hugging Face? \n",
       "\n",
       "Because life’s too short for dull software! Here, we blend purpose with empowerment, sprinkling a little humor on high-tech solutions. Join us today and help shape tomorrow!\n",
       "\n",
       "---\n",
       "\n",
       "**Hugging Face: Where AI gets a big, warm hug!**"
      ],
      "text/plain": [
       "<IPython.core.display.Markdown object>"
      ]
     },
     "metadata": {},
     "output_type": "display_data"
    }
   ],
   "source": [
    "stream_brochure(company_name,myurl)"
   ]
  },
  {
   "cell_type": "code",
   "execution_count": null,
   "id": "9fb4c833-15b5-4d21-9ee3-76d33a83cbd4",
   "metadata": {},
   "outputs": [],
   "source": []
  }
 ],
 "metadata": {
  "kernelspec": {
   "display_name": "Python 3 (ipykernel)",
   "language": "python",
   "name": "python3"
  },
  "language_info": {
   "codemirror_mode": {
    "name": "ipython",
    "version": 3
   },
   "file_extension": ".py",
   "mimetype": "text/x-python",
   "name": "python",
   "nbconvert_exporter": "python",
   "pygments_lexer": "ipython3",
   "version": "3.11.13"
  }
 },
 "nbformat": 4,
 "nbformat_minor": 5
}
