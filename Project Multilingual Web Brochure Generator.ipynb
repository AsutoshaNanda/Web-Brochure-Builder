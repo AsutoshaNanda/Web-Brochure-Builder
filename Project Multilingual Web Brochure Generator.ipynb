{
 "cells": [
  {
   "cell_type": "code",
   "execution_count": 179,
   "id": "a26ab053-8418-46dd-a808-e9c8fa06705e",
   "metadata": {},
   "outputs": [],
   "source": [
    "import os\n",
    "import requests\n",
    "import validators\n",
    "import json\n",
    "from dotenv import load_dotenv\n",
    "from bs4 import BeautifulSoup\n",
    "from IPython.display import Markdown, display, update_display\n",
    "from openai import OpenAI"
   ]
  },
  {
   "cell_type": "code",
   "execution_count": 180,
   "id": "81bceefe-cf74-4ca5-b947-bf17b250707c",
   "metadata": {},
   "outputs": [
    {
     "name": "stdout",
     "output_type": "stream",
     "text": [
      "API key found and looks good so far!\n"
     ]
    }
   ],
   "source": [
    "load_dotenv()\n",
    "api_key=os.getenv(\"OPENAI_API_KEY\")\n",
    "\n",
    "if not api_key:\n",
    "    print(\"No API key was found - please head over to the troubleshooting notebook in this folder to identify & fix!\")\n",
    "elif not api_key.split() != api_key:\n",
    "    print(\"An API key was found, but it looks like it might have space or tab characters at the start or end - please remove them - see troubleshooting notebook\")\n",
    "elif api_key[:8] != \"sk-proj-\":\n",
    "    print(\"An API key was found, but it doesn't start sk-proj-; please check you're using the right key - see troubleshooting notebook\")\n",
    "else :\n",
    "    print(\"API key found and looks good so far!\")"
   ]
  },
  {
   "cell_type": "code",
   "execution_count": 181,
   "id": "b66fe757-2af2-4aa8-b1ee-c7a1ea33afb9",
   "metadata": {},
   "outputs": [],
   "source": [
    "openai = OpenAI()"
   ]
  },
  {
   "cell_type": "code",
   "execution_count": 182,
   "id": "bf13ec8f-ad89-4631-a4ee-7171d4fe0e34",
   "metadata": {},
   "outputs": [],
   "source": [
    "headers = {\n",
    " \"User-Agent\": \"Mozilla/5.0 (Windows NT 10.0; Win64; x64) AppleWebKit/537.36 (KHTML, like Gecko) Chrome/117.0.0.0 Safari/537.36\"\n",
    "}"
   ]
  },
  {
   "cell_type": "code",
   "execution_count": 183,
   "id": "87cd82de-0ca8-4bce-a5ee-b7bed54a15f7",
   "metadata": {},
   "outputs": [
    {
     "name": "stdin",
     "output_type": "stream",
     "text": [
      "Enter the Website: https://huggingface.co/\n"
     ]
    },
    {
     "name": "stdout",
     "output_type": "stream",
     "text": [
      "Valid Website\n"
     ]
    }
   ],
   "source": [
    "myurl = input(\"Enter the Website:\")\n",
    "if validators.url(myurl):\n",
    "    print(\"Valid Website\")\n",
    "else:\n",
    "    print(\"Invalid Website. Please Try again.\")"
   ]
  },
  {
   "cell_type": "code",
   "execution_count": 184,
   "id": "af6d21cb-d1a2-409e-986c-95a95bb86d5a",
   "metadata": {},
   "outputs": [],
   "source": [
    "response = requests.get(myurl,headers=headers)"
   ]
  },
  {
   "cell_type": "code",
   "execution_count": 185,
   "id": "5b4f329b-c863-4973-8c32-1a6aa20124d9",
   "metadata": {},
   "outputs": [],
   "source": [
    "soup = BeautifulSoup(response.content,'html.parser')"
   ]
  },
  {
   "cell_type": "code",
   "execution_count": 186,
   "id": "b5f9c8ad-cad3-4462-baf4-3dc63cb6adf8",
   "metadata": {},
   "outputs": [],
   "source": [
    "title = soup.title.string if soup.title else \"No Title found. Give Proper Website Please\""
   ]
  },
  {
   "cell_type": "code",
   "execution_count": 187,
   "id": "c88aaef2-e7de-4419-a3a2-81bb425f7d5d",
   "metadata": {},
   "outputs": [],
   "source": [
    "for irrelevant in soup.body(['style','img','input','script']):\n",
    "    irrelevant.decompose()\n",
    "text = soup.body.get_text(separator='\\n',strip=True)"
   ]
  },
  {
   "cell_type": "code",
   "execution_count": 190,
   "id": "7be9ca01-da0b-4588-bfea-7eda2ee92e3a",
   "metadata": {},
   "outputs": [],
   "source": [
    "def get_contents(title,text):\n",
    "     return f\"Webpage Title:\\n{title}\\nWebpage Contents:\\n{text}\\n\\n\""
   ]
  },
  {
   "cell_type": "code",
   "execution_count": 191,
   "id": "5fef58bf-14b6-4b98-a9c0-9366ec8b4336",
   "metadata": {},
   "outputs": [],
   "source": [
    "all_links = soup.find_all('a')\n",
    "links = [link.get('href') for link in all_links if link.get('href')]"
   ]
  },
  {
   "cell_type": "code",
   "execution_count": 192,
   "id": "127cf2c1-6428-4b4e-97d4-29a6eb8d8f3d",
   "metadata": {},
   "outputs": [],
   "source": [
    "link_system_prompt = \"You are provided with a list of links found on a webpage. \\\n",
    "You are able to decide which of the links would be most relevant to include in a brochure about the company, \\\n",
    "such as links to an About page, or a Company page, or Careers/Jobs pages.\\n\"\n",
    "link_system_prompt += \"Respond in JSON format as per the given example.\"\n",
    "link_system_prompt += \"\"\"\n",
    "{\n",
    "\"links\": [\n",
    "        {\"type\": \"about page\", \"url\": \"https://full.url/goes/here/about\"},\n",
    "        {\"type\": \"careers page\", \"url\": \"https://another.full.url/careers\"},\n",
    "    ]\n",
    "}\n",
    "\"\"\""
   ]
  },
  {
   "cell_type": "code",
   "execution_count": 193,
   "id": "13ba31b3-3377-460d-8746-a5fe92976272",
   "metadata": {},
   "outputs": [],
   "source": [
    "def get_links_user_prompt(myurl):\n",
    "    user_prompt = \"\"\n",
    "    user_prompt+= f\"You are currently watching the website:{myurl}\"\n",
    "    user_prompt += \"please decide which of these are relevant web links for a brochure about the company, respond with the full https URL in JSON format. \\\n",
    "Do not include Terms of Service, Privacy, email links.\\n\"\n",
    "    user_prompt += \"Links:(Some might be relative links):\\n\"\n",
    "    user_prompt += '\\n'.join(links)\n",
    "    return user_prompt"
   ]
  },
  {
   "cell_type": "code",
   "execution_count": 194,
   "id": "0cdaa037-8e77-4a96-a889-eebb7926dc0c",
   "metadata": {},
   "outputs": [],
   "source": [
    "messages = [\n",
    "    {'role':'system','content':link_system_prompt},\n",
    "    {'role':'user','content':get_links_user_prompt(myurl)}\n",
    "]"
   ]
  },
  {
   "cell_type": "code",
   "execution_count": 195,
   "id": "117d7727-460c-47f4-b7aa-8dec932958d4",
   "metadata": {},
   "outputs": [],
   "source": [
    "def get_links(myurl):\n",
    "    response = openai.chat.completions.create(\n",
    "        messages = messages,\n",
    "        model= \"gpt-4o-mini\",\n",
    "        response_format = {'type':'json_object'}\n",
    "    )\n",
    "    result = response.choices[0].message.content\n",
    "    return json.loads(result)"
   ]
  },
  {
   "cell_type": "code",
   "execution_count": 196,
   "id": "853419f7-05a1-4bff-8f26-7578656b23a6",
   "metadata": {},
   "outputs": [
    {
     "data": {
      "text/plain": [
       "{'links': [{'type': 'about page', 'url': 'https://huggingface.co/huggingface'},\n",
       "  {'type': 'careers page', 'url': 'https://apply.workable.com/huggingface/'},\n",
       "  {'type': 'enterprise page', 'url': 'https://huggingface.co/enterprise'},\n",
       "  {'type': 'pricing page', 'url': 'https://huggingface.co/pricing'},\n",
       "  {'type': 'blog page', 'url': 'https://huggingface.co/blog'},\n",
       "  {'type': 'docs page', 'url': 'https://huggingface.co/docs'},\n",
       "  {'type': 'contact page', 'url': 'https://huggingface.co/contact'},\n",
       "  {'type': 'social media page', 'url': 'https://twitter.com/huggingface'},\n",
       "  {'type': 'social media page',\n",
       "   'url': 'https://www.linkedin.com/company/huggingface/'}]}"
      ]
     },
     "execution_count": 196,
     "metadata": {},
     "output_type": "execute_result"
    }
   ],
   "source": [
    "get_links(myurl)"
   ]
  },
  {
   "cell_type": "code",
   "execution_count": 197,
   "id": "2a773ff0-c094-4fc8-a356-379390d4cbce",
   "metadata": {},
   "outputs": [],
   "source": [
    "def scrape_web(myurl):\n",
    "    '''Scrape any webpage easily using this function'''\n",
    "    response = requests.get(myurl,headers=headers)\n",
    "    soup = BeautifulSoup(response.content,'html.parser')\n",
    "\n",
    "    title = soup.title.string if soup.title else \"No Title found. Give Proper Website Please\"\n",
    "\n",
    "    for irrelevant in soup.body(['style','img','input','script']):\n",
    "        irrelevant.decompose()\n",
    "    text = soup.body.get_text(separator='\\n',strip=True)\n",
    "    return title, text"
   ]
  },
  {
   "cell_type": "code",
   "execution_count": 198,
   "id": "b7ed1893-decb-4199-bd59-b03ee337e5fe",
   "metadata": {},
   "outputs": [],
   "source": [
    "def get_all_details(myurl):\n",
    "    result = 'Landing Page \\n'\n",
    "    result += get_contents(title,text)\n",
    "    links = get_links(myurl)\n",
    "    print('Found the Links',links)\n",
    "    for link in links['links']:\n",
    "        page_url = link['url']\n",
    "        page_type = link.get('type','Link')\n",
    "        result += f\"\\n\\n{page_type}\\n\"\n",
    "        page_title,page_text = scrape_web(page_url)\n",
    "        result += get_contents(page_title,page_text)\n",
    "    return result"
   ]
  },
  {
   "cell_type": "code",
   "execution_count": 199,
   "id": "a90648b7-c2cd-40ee-9eba-12fea61a5cf5",
   "metadata": {},
   "outputs": [],
   "source": [
    "system_prompt = \"You are an assistant that analyzes the contents of several relevant pages from a company website \\\n",
    "and creates a short brochure about the company for prospective customers, investors and recruits. Respond in markdown.\\\n",
    "Include details of company culture, customers and careers/jobs if you have the information.\""
   ]
  },
  {
   "cell_type": "code",
   "execution_count": 200,
   "id": "d230d547-3aee-4036-9452-61e7d0a65a2b",
   "metadata": {},
   "outputs": [
    {
     "name": "stdin",
     "output_type": "stream",
     "text": [
      "Enter the name of the Company :  Hugging Face\n"
     ]
    }
   ],
   "source": [
    "company_name = input(\"Enter the name of the Company : \")"
   ]
  },
  {
   "cell_type": "code",
   "execution_count": 201,
   "id": "6dc4a7b9-66fa-452a-93b0-9aa86ee3637d",
   "metadata": {},
   "outputs": [],
   "source": [
    "def user_prompt_for(company_name,myurl):\n",
    "    user_prompt = f\"You are looking at website called : {company_name}\\n\"\n",
    "    user_prompt+= f\"Here are the contents of its landing page and other relevant pages; use this information to build a short brochure of the company in markdown.\\n\"\n",
    "    user_prompt+= get_all_details(myurl)\n",
    "    user_prompt = user_prompt[:20000]\n",
    "    return user_prompt"
   ]
  },
  {
   "cell_type": "code",
   "execution_count": 202,
   "id": "fb46fae8-7fc3-4028-bfa5-742b1719369f",
   "metadata": {},
   "outputs": [
    {
     "name": "stdout",
     "output_type": "stream",
     "text": [
      "Found the Links {'links': [{'type': 'about page', 'url': 'https://huggingface.co/huggingface'}, {'type': 'careers page', 'url': 'https://apply.workable.com/huggingface/'}, {'type': 'enterprise page', 'url': 'https://huggingface.co/enterprise'}, {'type': 'pricing page', 'url': 'https://huggingface.co/pricing'}, {'type': 'blog page', 'url': 'https://huggingface.co/blog'}, {'type': 'documentation page', 'url': 'https://huggingface.co/docs'}, {'type': 'community page', 'url': 'https://discuss.huggingface.co'}, {'type': 'GitHub page', 'url': 'https://github.com/huggingface'}, {'type': 'LinkedIn page', 'url': 'https://www.linkedin.com/company/huggingface/'}, {'type': 'Twitter page', 'url': 'https://twitter.com/huggingface'}]}\n"
     ]
    }
   ],
   "source": [
    "messages_brochure = [\n",
    "    {'role':'system','content':system_prompt},\n",
    "    {'role':'user','content':user_prompt_for(company_name,myurl)}\n",
    "]"
   ]
  },
  {
   "cell_type": "code",
   "execution_count": 205,
   "id": "e201517d-e49a-494d-a967-b53d26341ee5",
   "metadata": {},
   "outputs": [],
   "source": [
    "def get_brochure(company_name,myurl):\n",
    "    response = openai.chat.completions.create(\n",
    "        messages = messages_brochure,\n",
    "        model = 'gpt-4o-mini'\n",
    "    )\n",
    "    result = response.choices[0].message.content\n",
    "    return result"
   ]
  },
  {
   "cell_type": "code",
   "execution_count": 208,
   "id": "8a01a8eb-e8c2-4866-8bb8-bd5366620a30",
   "metadata": {},
   "outputs": [
    {
     "data": {
      "text/markdown": [
       "# Hugging Face Brochure\n",
       "\n",
       "---\n",
       "\n",
       "**Company Overview**  \n",
       "Hugging Face is a leading AI community and collaboration platform dedicated to building the future of machine learning. With a focus on democratizing machine learning, Hugging Face serves as the home for models, datasets, and applications in AI, allowing users to create, share, and collaborate efficiently.\n",
       "\n",
       "**Mission**  \n",
       "We aim to empower everyone—individuals and organizations alike—to access cutting-edge AI tools and technologies, driving innovation and fostering a global community of ML enthusiasts.\n",
       "\n",
       "---\n",
       "\n",
       "## **Company Culture**\n",
       "\n",
       "At Hugging Face, we value open collaboration and community engagement. Our culture promotes:\n",
       "\n",
       "- **Inclusivity:** Encouraging participation from all backgrounds in machine learning innovation.\n",
       "- **Transparency:** Openness in our processes and decisions, leading to trust and accountability.\n",
       "- **Continuous Learning:** Providing resources and forums for our community to learn and grow together.\n",
       "- **Innovation:** Encouraging creativity and experimentation, leading to groundbreaking developments in AI.\n",
       "\n",
       "---\n",
       "\n",
       "## **Our Offerings**\n",
       "\n",
       "### **Models and Datasets**\n",
       "Hugging Face hosts over **1 million models** and **250,000 datasets** in various modalities, including text, image, video, and audio. Our platform allows users to browse, create, and utilize these resources, fostering an environment of continuous improvement and collaboration.\n",
       "\n",
       "### **Community Spaces**\n",
       "- **Connect:** Join and build apps in our popular Spaces, hosting dynamic machine learning applications.\n",
       "- **Explore:** Engage with trending models and showcase your work.\n",
       "\n",
       "### **Enterprise Solutions**\n",
       "We provide advanced AI solutions for organizations featuring:\n",
       "- **Dedicated Support**\n",
       "- **Advanced Security**\n",
       "- **Customizable Analytics**\n",
       "- **Scalable Compute Resources**  \n",
       "Starting at $20/user/month for team solutions, we help speed up your AI projects with enterprise-grade features.\n",
       "\n",
       "---\n",
       "\n",
       "## **Customer Base**\n",
       "\n",
       "More than **50,000 organizations** trust Hugging Face, including giants like:\n",
       "- Google\n",
       "- Microsoft\n",
       "- Amazon\n",
       "- Meta\n",
       "- Grammarly  \n",
       "\n",
       "Our commitment ensures that these brands, along with numerous startups and individuals, have access to state-of-the-art machine learning solutions.\n",
       "\n",
       "---\n",
       "\n",
       "## **Careers at Hugging Face**\n",
       "\n",
       "We are always on the lookout for passionate individuals to join our team. Working at Hugging Face means being part of a dynamic and innovative community dedicated to transforming the AI landscape. Open positions include roles in engineering, research, product management, and community engagement.\n",
       "\n",
       "### **Why Work with Us?**\n",
       "- **Impactful Work:** Contribute to projects that advance AI for everyone.\n",
       "- **Flexible Environment:** Enjoy a culture that promotes work-life balance.\n",
       "- **Growth Opportunities:** Participate in diverse and challenging projects that expand your expertise.\n",
       "\n",
       "Join us on our mission to democratize good machine learning, one commit at a time! Check our **[Careers page](https://huggingface.co/jobs)** for open positions.\n",
       "\n",
       "---\n",
       "\n",
       "## **Get Started!**\n",
       "Experience the future of AI today—join our community and take part in the open-source movement within machine learning. Whether you're a developer, researcher, entrepreneur, or enthusiast, Hugging Face invites you to explore, innovate, and contribute.\n",
       "\n",
       "**Visit us at:** [huggingface.co](https://huggingface.co)\n",
       "\n",
       "--- \n",
       "\n",
       "Become a part of the collaborative AI revolution today with Hugging Face!"
      ],
      "text/plain": [
       "<IPython.core.display.Markdown object>"
      ]
     },
     "metadata": {},
     "output_type": "display_data"
    }
   ],
   "source": [
    "display(Markdown(get_brochure(company_name,myurl)))"
   ]
  },
  {
   "cell_type": "code",
   "execution_count": 209,
   "id": "6ff04f7c-1dc1-4165-8ae7-5122649f6504",
   "metadata": {},
   "outputs": [],
   "source": [
    "def get_stream_brochure(company_name,myurl):\n",
    "    stream = openai.chat.completions.create(\n",
    "        messages = messages_brochure,\n",
    "        model = 'gpt-4o-mini',\n",
    "        stream=True\n",
    "    )\n",
    "    response = ''\n",
    "    display_handle = display(Markdown,display_id = True)\n",
    "    for chunk in stream:\n",
    "        response += chunk.choices[0].delta.content or ''\n",
    "        response = response.replace('```','').replace('markdown','')\n",
    "        update_display(Markdown(response),display_id=display_handle.display_id)"
   ]
  },
  {
   "cell_type": "code",
   "execution_count": 210,
   "id": "c7820d9e-8216-4010-b5ee-855ffa1c231c",
   "metadata": {},
   "outputs": [
    {
     "data": {
      "text/markdown": [
       "\n",
       "# Hugging Face Brochure\n",
       "\n",
       "## Welcome to Hugging Face\n",
       "**The AI community building the future.**  \n",
       "Join a collaborative platform where machine learning experts come together to share models, datasets, and applications. Whether you're a developer, researcher, or enthusiast, Hugging Face is your home for AI advancement.\n",
       "\n",
       "---\n",
       "\n",
       "## Who We Are\n",
       "At Hugging Face, we are on a mission to democratize machine learning. Our open-source approach allows everyone to collaborate and innovate, making machine learning more accessible for all. With over **1 million models and 250,000 datasets**, our platform supports a myriad of AI applications across various modalities, including text, image, video, and audio.\n",
       "\n",
       "---\n",
       "\n",
       "## Company Culture\n",
       "Our team consists of passionate individuals devoted to creating a vibrant and supportive environment for AI and ML enthusiasts. We believe in the power of community and collaboration, fostering a culture that encourages creativity and knowledge sharing. We value every contribution, big or small, following the mantra: \"one commit at a time.\"\n",
       "\n",
       "---\n",
       "\n",
       "## Together, We Build\n",
       "Join **more than 50,000 organizations**, including industry giants like Google, Microsoft, and Amazon, who use our platform for innovation. Whether you're a startup or an enterprise, our solutions scale with your needs, offering robust features, security, access controls, and dedicated support.\n",
       "\n",
       "### Explore Our Products\n",
       "- **Models**: Browse, deploy, and collaborate on AI models.\n",
       "- **Datasets**: Access a vast library of datasets for any ML task.\n",
       "- **Spaces**: Share and demo your ML applications seamlessly.\n",
       "\n",
       "For those looking for enterprise solutions, we offer:\n",
       "- Single Sign-On (SSO) integration\n",
       "- Advanced security features\n",
       "- Granular access controls\n",
       "- Priority support\n",
       "\n",
       "---\n",
       "\n",
       "## Careers at Hugging Face\n",
       "Join us on our journey to shape the future of AI. We are constantly looking for talented individuals who share our passion for machine learning. Explore current job openings on our **[Careers Page](https://huggingface.co/jobs)** and see how you can make an impact.\n",
       "\n",
       "### Why Work With Us?\n",
       "- **Innovative Environment**: Work on cutting-edge technology in a collaborative space.\n",
       "- **Growth Opportunities**: We support professional development through resources and mentorship.\n",
       "- **Inclusive Culture**: We celebrate diversity and promote a positive workplace for all.\n",
       "\n",
       "---\n",
       "\n",
       "## Connect With Us\n",
       "- **Website**: [huggingface.co](https://huggingface.co)  \n",
       "- **Twitter**: [@huggingface](https://twitter.com/huggingface)  \n",
       "- **LinkedIn**: [Hugging Face](https://www.linkedin.com/company/huggingface)\n",
       "\n",
       "Join us in building a future where AI is accessible to everyone!\n",
       "\n"
      ],
      "text/plain": [
       "<IPython.core.display.Markdown object>"
      ]
     },
     "metadata": {},
     "output_type": "display_data"
    }
   ],
   "source": [
    "get_stream_brochure(company_name,myurl)"
   ]
  },
  {
   "cell_type": "code",
   "execution_count": 211,
   "id": "af3a0f88-e69b-440f-8c89-38483ce222e3",
   "metadata": {},
   "outputs": [],
   "source": [
    "import pycountry\n",
    "\n",
    "def is_valid_language(lang):\n",
    "    return bool(\n",
    "        pycountry.languages.get(name = lang.capitalize()) or \n",
    "        pycountry.languages.get(alpha_2 = lang.lower())or\n",
    "        pycountry.languages.get(alpha_3 = lang.lower())\n",
    "    )"
   ]
  },
  {
   "cell_type": "code",
   "execution_count": 219,
   "id": "9be700d2-9c6d-4743-823d-055d7c56d203",
   "metadata": {},
   "outputs": [
    {
     "name": "stdin",
     "output_type": "stream",
     "text": [
      "Enter the language:  JPN\n"
     ]
    },
    {
     "name": "stdout",
     "output_type": "stream",
     "text": [
      "Valid Language\n"
     ]
    }
   ],
   "source": [
    "target_language = input(\"Enter the language: \")\n",
    "if is_valid_language(target_language):\n",
    "    print(\"Valid Language\")\n",
    "else :\n",
    "    print(\"Invalid\")"
   ]
  },
  {
   "cell_type": "code",
   "execution_count": 220,
   "id": "544f66f3-bffb-446d-94e1-6331d09bb2a3",
   "metadata": {},
   "outputs": [],
   "source": [
    "system_lang_prompt = \"\"\"\n",
    "You are a professional copywriter and translator.\n",
    "Your task is to take the provided brochure content and produce a version in {target_language}.\n",
    "\n",
    "Requirements:\n",
    "1. Translate all text into natural, fluent {target_language}.\n",
    "2. Infuse humor and wit throughout, while keeping the original meaning and tone intact.\n",
    "   - Add light jokes, playful phrasing, and clever word choices that resonate with {target_language} humor.\n",
    "   - Do not make it offensive or culturally inappropriate.\n",
    "3. Respond in markdown. Also, preserve the structure of the brochure (headings, subheadings, bullet points, formatting).\n",
    "4. Ensure the final text feels like a professionally written humorous {target_language} brochure, not a literal translation.\n",
    "5. Keep the message persuasive, engaging, and audience-friendly.\n",
    "\n",
    "Always output only the humorous {target_language} version of the brochure, nothing else.\n",
    "\"\"\""
   ]
  },
  {
   "cell_type": "code",
   "execution_count": 229,
   "id": "596160e5-c49a-4064-9968-5aa06b6c4d70",
   "metadata": {},
   "outputs": [],
   "source": [
    "def get_brochure_in_target_language(myurl,company_name,target_language):\n",
    "    user_prompt = f\"Here is the brochure text for {company_name}, retrieved from {myurl}.\\n\\n\"\n",
    "    user_prompt += \"Your task:\\n\"\n",
    "    user_prompt += f\"1. Take this brochure content and translate it into natural, fluent {target_language}.\\n\"\n",
    "    user_prompt += f\"2. Infuse humor and wit throughout, while keeping the original meaning and tone intact.\\n\"\n",
    "    user_prompt += \"3. Keep the formatting, structure, and section flow (headings, bullet points, etc.) the same.\\n\"\n",
    "    user_prompt += f\"4. Output only the final humorous {target_language} brochure text, nothing else.\\n\\n\"\n",
    "    user_prompt += \"I want the response in form of markdown.\"\n",
    "    brochure_content = get_brochure(company_name, myurl)\n",
    "    if brochure_content is not None:\n",
    "        user_prompt += brochure_content\n",
    "    else:\n",
    "        user_prompt += \"\\n[Error: Could not retrieve brochure content]\"\n",
    "    \n",
    "    return user_prompt"
   ]
  },
  {
   "cell_type": "code",
   "execution_count": 230,
   "id": "73dfa167-a9ce-4a7a-8450-2d45f2b9091b",
   "metadata": {},
   "outputs": [],
   "source": [
    "messages_target_lang = [\n",
    "    {'role':'system','content':system_lang_prompt},\n",
    "    {'role':'user','content':get_brochure_in_target_language(myurl,company_name,target_language)}\n",
    "]"
   ]
  },
  {
   "cell_type": "code",
   "execution_count": 231,
   "id": "4becb1f3-b908-4305-99b8-0037ffa1f44b",
   "metadata": {},
   "outputs": [],
   "source": [
    "def get_brochure_target_language(myurl,company_name,target_language):\n",
    "    response = openai.chat.completions.create(\n",
    "        model = 'gpt-4o-mini',\n",
    "        messages = messages_target_lang\n",
    "    )\n",
    "    result = response.choices[0].message.content\n",
    "    return result"
   ]
  },
  {
   "cell_type": "code",
   "execution_count": 232,
   "id": "94ed0a1e-a245-4fe8-b62c-f5393c5b66d0",
   "metadata": {},
   "outputs": [
    {
     "data": {
      "text/markdown": [
       "# ハギングフェイスのパンフレット\n",
       "\n",
       "## 会社概要\n",
       "ハギングフェイスは人工知能の分野における先駆的な企業で、頑丈で協力的な機械学習コミュニティの構築に献身しています。この会社の使命は、機械学習を民主化し、モデル、データセット、アプリケーションに関する協力を促進する強力なプラットフォームを提供することです。\n",
       "\n",
       "## コミュニティの engagement\n",
       "ハギングフェイスの努力の核心は、その活気にあふれるコミュニティです。このコミュニティは、AIの能力を向上させるために継続的に貢献しています。プラットフォームは **100万以上のモデル** と **25万のデータセット** をホストし、開発者、データサイエンティスト、研究者が洞察や革新を共有するためのシームレスな環境を提供しています。\n",
       "\n",
       "## 私たちの製品\n",
       "- **モデル**: テキスト、画像、音声、ビデオ処理を含む様々な機械学習タスクに対応する多様な事前訓練済みモデルにアクセスできます。あなたのインスピレーションが飛び出す瞬間がここにあります！\n",
       "- **データセット**: 豊富なデータセットコレクションを探索し、実験とモデル訓練の幅広い可能性を実現します。データの海を泳ぎ回りましょう！\n",
       "- **スペース**: 機械学習アプリケーションをユーザーフレンドリーな形で披露し、現実世界でのエンゲージメントを促進します。これはまるでAIのための遊び場です！\n",
       "\n",
       "## 文化\n",
       "ハギングフェイスはオープンさと革新の文化を推進しています。会社は協力に生き、個人や組織の貢献を大切にします。従業員やコミュニティメンバーには、議論に参加し、知識を共有し、AIエコシステムの皆に利益をもたらすツールを強化することが奨励されています。\n",
       "\n",
       "**コアバリュー:**\n",
       "- **コラボレーション**: アイデアが自由に共有・発展できる環境を育みます。\n",
       "- **包括性**: AIコミュニティにおける多様な視点や背景を受け入れます。多様性こそが私たちの強みです！\n",
       "- **透明性**: オープンソースの実践にコミットし、誰もが貢献し学べる環境を提供します。\n",
       "\n",
       "## カスタマーベース\n",
       "ハギングフェイスは、**50,000以上の組織**を誇りに支援しています。これには、**Google**、**Meta**、**Amazon**、**Microsoft** などの技術の巨人たちも含まれています。このプラットフォームは、高度なツールやサービスを求めるチームや企業向けにカスタマイズされています。AIアプリケーションの構築とスケールアップを効果的に行えることでしょう！\n",
       "\n",
       "## キャリアと機会\n",
       "ハギングフェイスは、自社のミッションに参加し、ダイナミックで包括的な環境で成長したい情熱的な個人を常に探しています。ハギングフェイスで働くことで、あなたも：\n",
       "- 画期的なAIプロジェクトに貢献できます。\n",
       "- AI分野の思想的リーダーや革新者とコラボレーションできます。\n",
       "- ワークライフバランスを重視したフレキシブルでサポートの行き届いた職場を楽しめます。\n",
       "\n",
       "### 現在の求人情報\n",
       "ハギングフェイスでは、さまざまな部門で定期的に求人を募集中です。興味のある候補者は、エンジニアリング、リサーチ、パートナーシップ、サポート役割など、スキルに合わせた機会を見つけることができます。案外、あなたの夢の仕事がもうすぐそこにありますよ！\n",
       "\n",
       "## 料金プラン\n",
       "ハギングフェイスは、個人や組織のニーズに合わせた柔軟な料金体系を提供しています：\n",
       "- **PRO アカウント**: **$9/月**からスタート。強化された機能を求める個人に最適です。そこにいるあなた、AIにしっかり向き合う準備はできていますか？\n",
       "- **チームプラン**: **$20/ユーザー/月**からスタート。成長中のチームを支えるために設計された、高度なコラボレーションツールを提供します。\n",
       "- **エンタープライズソリューション**: 大規模な組織の特定のニーズに合わせたカスタムプランを提供し、セキュリティ、スケーラビリティ、専任サポートを確保します。\n",
       "\n",
       "今日、ハギングフェイスに参加してAI革命の一翼を担いましょう！\n",
       "\n",
       "**詳細情報のお問い合わせは:**  \n",
       "[ハギングフェイスのウェブサイト](https://huggingface.co)  \n",
       "最新の更新や洞察については、[Twitter](https://twitter.com/huggingface)や[LinkedIn](https://www.linkedin.com/company/huggingface)でフォローしてください。"
      ],
      "text/plain": [
       "<IPython.core.display.Markdown object>"
      ]
     },
     "metadata": {},
     "output_type": "display_data"
    }
   ],
   "source": [
    "display(Markdown(get_brochure_target_language(myurl,company_name,target_language)))"
   ]
  },
  {
   "cell_type": "code",
   "execution_count": null,
   "id": "c6ef1dca-3e4c-42b5-b912-15e60db415ac",
   "metadata": {},
   "outputs": [],
   "source": []
  }
 ],
 "metadata": {
  "kernelspec": {
   "display_name": "Python 3 (ipykernel)",
   "language": "python",
   "name": "python3"
  },
  "language_info": {
   "codemirror_mode": {
    "name": "ipython",
    "version": 3
   },
   "file_extension": ".py",
   "mimetype": "text/x-python",
   "name": "python",
   "nbconvert_exporter": "python",
   "pygments_lexer": "ipython3",
   "version": "3.11.13"
  }
 },
 "nbformat": 4,
 "nbformat_minor": 5
}
